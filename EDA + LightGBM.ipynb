{
 "cells": [
  {
   "cell_type": "code",
   "execution_count": 78,
   "metadata": {},
   "outputs": [],
   "source": [
    "import pandas as pd\n",
    "import numpy as np\n",
    "import os\n",
    "import matplotlib.pyplot as plt\n",
    "\n",
    "import seaborn as sns\n",
    "from scipy.stats import norm\n",
    "from sklearn import preprocessing\n",
    "from sklearn import cluster, tree, decomposition\n",
    "from sklearn.preprocessing import StandardScaler\n",
    "from sklearn.preprocessing import LabelEncoder, OneHotEncoder\n",
    "from scipy import stats\n",
    "\n",
    "from mpl_toolkits.mplot3d import Axes3D\n",
    "\n",
    "from sklearn.model_selection import train_test_split\n",
    "from sklearn.metrics import confusion_matrix, mean_squared_error, r2_score, mean_absolute_error\n",
    "from sklearn.metrics import roc_auc_score, accuracy_score, roc_curve, auc, f1_score\n",
    "from sklearn.metrics import classification_report, scorer, precision_score, recall_score\n",
    "\n",
    "from sklearn.naive_bayes import GaussianNB"
   ]
  },
  {
   "cell_type": "code",
   "execution_count": 2,
   "metadata": {},
   "outputs": [],
   "source": [
    "%matplotlib inline"
   ]
  },
  {
   "cell_type": "code",
   "execution_count": 3,
   "metadata": {},
   "outputs": [
    {
     "data": {
      "text/html": [
       "<style>.container { width:100% !important; }</style>"
      ],
      "text/plain": [
       "<IPython.core.display.HTML object>"
      ]
     },
     "metadata": {},
     "output_type": "display_data"
    }
   ],
   "source": [
    "from IPython.core.display import display, HTML\n",
    "display(HTML(\"<style>.container { width:100% !important; }</style>\"))"
   ]
  },
  {
   "cell_type": "code",
   "execution_count": 4,
   "metadata": {},
   "outputs": [],
   "source": [
    "pd.set_option('display.max_columns', None)"
   ]
  },
  {
   "cell_type": "code",
   "execution_count": 5,
   "metadata": {},
   "outputs": [],
   "source": [
    "os.chdir('C:/Users/esnxwng/Desktop/UTA Pier 1/P1ProductData_UTA2019')"
   ]
  },
  {
   "cell_type": "code",
   "execution_count": 6,
   "metadata": {},
   "outputs": [
    {
     "data": {
      "text/plain": [
       "['.RData',\n",
       " '.Rhistory',\n",
       " 'initial_data.csv',\n",
       " 'P1ProductData_UTA2019.csv',\n",
       " 'Pier1_2019CompetitionQuestion.docx',\n",
       " 'turnto-ugc.js',\n",
       " 'UTA_Pier1.R',\n",
       " '~$er1_2019CompetitionQuestion.docx']"
      ]
     },
     "execution_count": 6,
     "metadata": {},
     "output_type": "execute_result"
    }
   ],
   "source": [
    "os.listdir()"
   ]
  },
  {
   "cell_type": "code",
   "execution_count": 7,
   "metadata": {},
   "outputs": [],
   "source": [
    "dataset = pd.read_csv('initial_data.csv')"
   ]
  },
  {
   "cell_type": "code",
   "execution_count": 8,
   "metadata": {},
   "outputs": [
    {
     "data": {
      "text/plain": [
       "Index(['Unnamed: 0', 'SKU', 'ProductName', 'CountOfBigTransactions', 'ClassID',\n",
       "       'Weight', 'Width', 'Depth', 'Height', 'LifeCycleName', 'FinishName',\n",
       "       'Color', 'Season', 'Material', 'CountryOfOrigin', 'Quartile',\n",
       "       'online-flag', 'Is_Season', 'BigTransactions', 'Size', 'Utility',\n",
       "       'std_weight', 'std_height', 'std_width', 'std_depth', 'size_cluster',\n",
       "       'size_std_cluster', 'man_cluster'],\n",
       "      dtype='object')"
      ]
     },
     "execution_count": 8,
     "metadata": {},
     "output_type": "execute_result"
    }
   ],
   "source": [
    "dataset.columns"
   ]
  },
  {
   "cell_type": "code",
   "execution_count": 9,
   "metadata": {},
   "outputs": [],
   "source": [
    "dataset.drop(['Unnamed: 0'], axis=1, inplace=True)"
   ]
  },
  {
   "cell_type": "code",
   "execution_count": 10,
   "metadata": {},
   "outputs": [
    {
     "data": {
      "text/html": [
       "<div>\n",
       "<style scoped>\n",
       "    .dataframe tbody tr th:only-of-type {\n",
       "        vertical-align: middle;\n",
       "    }\n",
       "\n",
       "    .dataframe tbody tr th {\n",
       "        vertical-align: top;\n",
       "    }\n",
       "\n",
       "    .dataframe thead th {\n",
       "        text-align: right;\n",
       "    }\n",
       "</style>\n",
       "<table border=\"1\" class=\"dataframe\">\n",
       "  <thead>\n",
       "    <tr style=\"text-align: right;\">\n",
       "      <th></th>\n",
       "      <th>SKU</th>\n",
       "      <th>ProductName</th>\n",
       "      <th>CountOfBigTransactions</th>\n",
       "      <th>ClassID</th>\n",
       "      <th>Weight</th>\n",
       "      <th>Width</th>\n",
       "      <th>Depth</th>\n",
       "      <th>Height</th>\n",
       "      <th>LifeCycleName</th>\n",
       "      <th>FinishName</th>\n",
       "      <th>Color</th>\n",
       "      <th>Season</th>\n",
       "      <th>Material</th>\n",
       "      <th>CountryOfOrigin</th>\n",
       "      <th>Quartile</th>\n",
       "      <th>online-flag</th>\n",
       "      <th>Is_Season</th>\n",
       "      <th>BigTransactions</th>\n",
       "      <th>Size</th>\n",
       "      <th>Utility</th>\n",
       "      <th>std_weight</th>\n",
       "      <th>std_height</th>\n",
       "      <th>std_width</th>\n",
       "      <th>std_depth</th>\n",
       "      <th>size_cluster</th>\n",
       "      <th>size_std_cluster</th>\n",
       "      <th>man_cluster</th>\n",
       "    </tr>\n",
       "  </thead>\n",
       "  <tbody>\n",
       "    <tr>\n",
       "      <th>0</th>\n",
       "      <td>2790275</td>\n",
       "      <td>RPL HDW COLETTE LEGS</td>\n",
       "      <td>0</td>\n",
       "      <td>9801</td>\n",
       "      <td>1.10</td>\n",
       "      <td>3.35</td>\n",
       "      <td>3.35</td>\n",
       "      <td>11.93</td>\n",
       "      <td>FUT</td>\n",
       "      <td>None</td>\n",
       "      <td>Brown - Espresso</td>\n",
       "      <td>None</td>\n",
       "      <td>None</td>\n",
       "      <td>China</td>\n",
       "      <td>1</td>\n",
       "      <td>False</td>\n",
       "      <td>True</td>\n",
       "      <td>False</td>\n",
       "      <td>None</td>\n",
       "      <td>None</td>\n",
       "      <td>-0.345405</td>\n",
       "      <td>-0.264554</td>\n",
       "      <td>-0.810947</td>\n",
       "      <td>-0.463821</td>\n",
       "      <td>11</td>\n",
       "      <td>7</td>\n",
       "      <td>1</td>\n",
       "    </tr>\n",
       "    <tr>\n",
       "      <th>1</th>\n",
       "      <td>3191777</td>\n",
       "      <td>google express</td>\n",
       "      <td>0</td>\n",
       "      <td>7590</td>\n",
       "      <td>1.00</td>\n",
       "      <td>1.00</td>\n",
       "      <td>1.00</td>\n",
       "      <td>1.00</td>\n",
       "      <td>FUT</td>\n",
       "      <td>None</td>\n",
       "      <td>Blue</td>\n",
       "      <td>None</td>\n",
       "      <td>None</td>\n",
       "      <td>United States</td>\n",
       "      <td>1</td>\n",
       "      <td>False</td>\n",
       "      <td>True</td>\n",
       "      <td>False</td>\n",
       "      <td>None</td>\n",
       "      <td>None</td>\n",
       "      <td>-0.349469</td>\n",
       "      <td>-0.646752</td>\n",
       "      <td>-0.911939</td>\n",
       "      <td>-0.559483</td>\n",
       "      <td>11</td>\n",
       "      <td>7</td>\n",
       "      <td>11</td>\n",
       "    </tr>\n",
       "    <tr>\n",
       "      <th>2</th>\n",
       "      <td>2842220</td>\n",
       "      <td>X14 ORN JINGLE BELL SILVER   $</td>\n",
       "      <td>0</td>\n",
       "      <td>1506</td>\n",
       "      <td>0.04</td>\n",
       "      <td>2.00</td>\n",
       "      <td>2.00</td>\n",
       "      <td>2.00</td>\n",
       "      <td>FUT</td>\n",
       "      <td>None</td>\n",
       "      <td>Silver</td>\n",
       "      <td>HOLIDAY</td>\n",
       "      <td>METAL</td>\n",
       "      <td>China</td>\n",
       "      <td>1</td>\n",
       "      <td>False</td>\n",
       "      <td>False</td>\n",
       "      <td>False</td>\n",
       "      <td>D300</td>\n",
       "      <td>ORNAMENTS</td>\n",
       "      <td>-0.388487</td>\n",
       "      <td>-0.611784</td>\n",
       "      <td>-0.868963</td>\n",
       "      <td>-0.518776</td>\n",
       "      <td>11</td>\n",
       "      <td>7</td>\n",
       "      <td>1</td>\n",
       "    </tr>\n",
       "    <tr>\n",
       "      <th>3</th>\n",
       "      <td>3888295</td>\n",
       "      <td>REUSABLE BAGS, PROMO V.#2</td>\n",
       "      <td>0</td>\n",
       "      <td>9801</td>\n",
       "      <td>0.15</td>\n",
       "      <td>20.00</td>\n",
       "      <td>6.00</td>\n",
       "      <td>16.00</td>\n",
       "      <td>FUT</td>\n",
       "      <td>None</td>\n",
       "      <td>Multi-colored</td>\n",
       "      <td>None</td>\n",
       "      <td>None</td>\n",
       "      <td>Viet Nam</td>\n",
       "      <td>1</td>\n",
       "      <td>False</td>\n",
       "      <td>True</td>\n",
       "      <td>False</td>\n",
       "      <td>None</td>\n",
       "      <td>None</td>\n",
       "      <td>-0.384016</td>\n",
       "      <td>-0.122235</td>\n",
       "      <td>-0.095406</td>\n",
       "      <td>-0.355946</td>\n",
       "      <td>3</td>\n",
       "      <td>3</td>\n",
       "      <td>18</td>\n",
       "    </tr>\n",
       "    <tr>\n",
       "      <th>4</th>\n",
       "      <td>3186445</td>\n",
       "      <td>DISPLAY CRTN AURA MINERAL</td>\n",
       "      <td>0</td>\n",
       "      <td>9801</td>\n",
       "      <td>0.59</td>\n",
       "      <td>9.50</td>\n",
       "      <td>0.01</td>\n",
       "      <td>11.00</td>\n",
       "      <td>FUT</td>\n",
       "      <td>None</td>\n",
       "      <td>Gray - Dove</td>\n",
       "      <td>None</td>\n",
       "      <td>None</td>\n",
       "      <td>China</td>\n",
       "      <td>1</td>\n",
       "      <td>False</td>\n",
       "      <td>True</td>\n",
       "      <td>False</td>\n",
       "      <td>None</td>\n",
       "      <td>None</td>\n",
       "      <td>-0.366133</td>\n",
       "      <td>-0.297074</td>\n",
       "      <td>-0.546648</td>\n",
       "      <td>-0.599784</td>\n",
       "      <td>11</td>\n",
       "      <td>7</td>\n",
       "      <td>1</td>\n",
       "    </tr>\n",
       "  </tbody>\n",
       "</table>\n",
       "</div>"
      ],
      "text/plain": [
       "       SKU                     ProductName  CountOfBigTransactions  ClassID  \\\n",
       "0  2790275            RPL HDW COLETTE LEGS                       0     9801   \n",
       "1  3191777                  google express                       0     7590   \n",
       "2  2842220  X14 ORN JINGLE BELL SILVER   $                       0     1506   \n",
       "3  3888295       REUSABLE BAGS, PROMO V.#2                       0     9801   \n",
       "4  3186445       DISPLAY CRTN AURA MINERAL                       0     9801   \n",
       "\n",
       "   Weight  Width  Depth  Height LifeCycleName FinishName             Color  \\\n",
       "0    1.10   3.35   3.35   11.93           FUT       None  Brown - Espresso   \n",
       "1    1.00   1.00   1.00    1.00           FUT       None              Blue   \n",
       "2    0.04   2.00   2.00    2.00           FUT       None            Silver   \n",
       "3    0.15  20.00   6.00   16.00           FUT       None     Multi-colored   \n",
       "4    0.59   9.50   0.01   11.00           FUT       None       Gray - Dove   \n",
       "\n",
       "    Season Material CountryOfOrigin  Quartile  online-flag  Is_Season  \\\n",
       "0     None     None           China         1        False       True   \n",
       "1     None     None   United States         1        False       True   \n",
       "2  HOLIDAY    METAL           China         1        False      False   \n",
       "3     None     None        Viet Nam         1        False       True   \n",
       "4     None     None           China         1        False       True   \n",
       "\n",
       "   BigTransactions   Size     Utility  std_weight  std_height  std_width  \\\n",
       "0            False   None        None   -0.345405   -0.264554  -0.810947   \n",
       "1            False   None        None   -0.349469   -0.646752  -0.911939   \n",
       "2            False  D300    ORNAMENTS   -0.388487   -0.611784  -0.868963   \n",
       "3            False   None        None   -0.384016   -0.122235  -0.095406   \n",
       "4            False   None        None   -0.366133   -0.297074  -0.546648   \n",
       "\n",
       "   std_depth  size_cluster  size_std_cluster  man_cluster  \n",
       "0  -0.463821            11                 7            1  \n",
       "1  -0.559483            11                 7           11  \n",
       "2  -0.518776            11                 7            1  \n",
       "3  -0.355946             3                 3           18  \n",
       "4  -0.599784            11                 7            1  "
      ]
     },
     "execution_count": 10,
     "metadata": {},
     "output_type": "execute_result"
    }
   ],
   "source": [
    "dataset.head()"
   ]
  },
  {
   "cell_type": "code",
   "execution_count": 11,
   "metadata": {},
   "outputs": [
    {
     "data": {
      "text/html": [
       "<div>\n",
       "<style scoped>\n",
       "    .dataframe tbody tr th:only-of-type {\n",
       "        vertical-align: middle;\n",
       "    }\n",
       "\n",
       "    .dataframe tbody tr th {\n",
       "        vertical-align: top;\n",
       "    }\n",
       "\n",
       "    .dataframe thead th {\n",
       "        text-align: right;\n",
       "    }\n",
       "</style>\n",
       "<table border=\"1\" class=\"dataframe\">\n",
       "  <thead>\n",
       "    <tr style=\"text-align: right;\">\n",
       "      <th></th>\n",
       "      <th>SKU</th>\n",
       "      <th>CountOfBigTransactions</th>\n",
       "      <th>ClassID</th>\n",
       "      <th>Weight</th>\n",
       "      <th>Width</th>\n",
       "      <th>Depth</th>\n",
       "      <th>Height</th>\n",
       "      <th>Quartile</th>\n",
       "      <th>std_weight</th>\n",
       "      <th>std_height</th>\n",
       "      <th>std_width</th>\n",
       "      <th>std_depth</th>\n",
       "      <th>size_cluster</th>\n",
       "      <th>size_std_cluster</th>\n",
       "      <th>man_cluster</th>\n",
       "    </tr>\n",
       "  </thead>\n",
       "  <tbody>\n",
       "    <tr>\n",
       "      <th>count</th>\n",
       "      <td>3.737700e+04</td>\n",
       "      <td>37377.000000</td>\n",
       "      <td>37377.000000</td>\n",
       "      <td>37377.000000</td>\n",
       "      <td>37377.000000</td>\n",
       "      <td>37377.000000</td>\n",
       "      <td>37377.000000</td>\n",
       "      <td>37377.000000</td>\n",
       "      <td>3.737700e+04</td>\n",
       "      <td>3.737700e+04</td>\n",
       "      <td>3.737700e+04</td>\n",
       "      <td>3.737700e+04</td>\n",
       "      <td>37377.000000</td>\n",
       "      <td>37377.000000</td>\n",
       "      <td>37377.000000</td>\n",
       "    </tr>\n",
       "    <tr>\n",
       "      <th>mean</th>\n",
       "      <td>3.310389e+06</td>\n",
       "      <td>208.356797</td>\n",
       "      <td>4422.340691</td>\n",
       "      <td>9.598293</td>\n",
       "      <td>22.220022</td>\n",
       "      <td>14.743996</td>\n",
       "      <td>19.495633</td>\n",
       "      <td>2.500147</td>\n",
       "      <td>-1.314732e-15</td>\n",
       "      <td>6.707141e-16</td>\n",
       "      <td>-3.019251e-16</td>\n",
       "      <td>-3.001778e-16</td>\n",
       "      <td>7.004334</td>\n",
       "      <td>7.235171</td>\n",
       "      <td>3.422131</td>\n",
       "    </tr>\n",
       "    <tr>\n",
       "      <th>std</th>\n",
       "      <td>3.538764e+05</td>\n",
       "      <td>837.621645</td>\n",
       "      <td>2421.648725</td>\n",
       "      <td>24.603877</td>\n",
       "      <td>23.269129</td>\n",
       "      <td>24.565512</td>\n",
       "      <td>28.597737</td>\n",
       "      <td>1.117726</td>\n",
       "      <td>1.000000e+00</td>\n",
       "      <td>1.000000e+00</td>\n",
       "      <td>1.000000e+00</td>\n",
       "      <td>1.000000e+00</td>\n",
       "      <td>3.829904</td>\n",
       "      <td>3.423746</td>\n",
       "      <td>4.367250</td>\n",
       "    </tr>\n",
       "    <tr>\n",
       "      <th>min</th>\n",
       "      <td>1.199880e+05</td>\n",
       "      <td>0.000000</td>\n",
       "      <td>1390.000000</td>\n",
       "      <td>0.010000</td>\n",
       "      <td>0.010000</td>\n",
       "      <td>0.000000</td>\n",
       "      <td>0.010000</td>\n",
       "      <td>1.000000</td>\n",
       "      <td>-3.897066e-01</td>\n",
       "      <td>-6.813697e-01</td>\n",
       "      <td>-9.544845e-01</td>\n",
       "      <td>-6.001908e-01</td>\n",
       "      <td>1.000000</td>\n",
       "      <td>1.000000</td>\n",
       "      <td>1.000000</td>\n",
       "    </tr>\n",
       "    <tr>\n",
       "      <th>25%</th>\n",
       "      <td>3.124731e+06</td>\n",
       "      <td>1.000000</td>\n",
       "      <td>2401.000000</td>\n",
       "      <td>0.620000</td>\n",
       "      <td>6.500000</td>\n",
       "      <td>2.750000</td>\n",
       "      <td>3.500000</td>\n",
       "      <td>2.000000</td>\n",
       "      <td>-3.649138e-01</td>\n",
       "      <td>-5.593321e-01</td>\n",
       "      <td>-6.755742e-01</td>\n",
       "      <td>-4.882453e-01</td>\n",
       "      <td>3.000000</td>\n",
       "      <td>4.000000</td>\n",
       "      <td>1.000000</td>\n",
       "    </tr>\n",
       "    <tr>\n",
       "      <th>50%</th>\n",
       "      <td>3.261870e+06</td>\n",
       "      <td>7.000000</td>\n",
       "      <td>3608.000000</td>\n",
       "      <td>1.760000</td>\n",
       "      <td>15.750000</td>\n",
       "      <td>6.000000</td>\n",
       "      <td>10.750000</td>\n",
       "      <td>3.000000</td>\n",
       "      <td>-3.185796e-01</td>\n",
       "      <td>-3.058156e-01</td>\n",
       "      <td>-2.780518e-01</td>\n",
       "      <td>-3.559460e-01</td>\n",
       "      <td>7.000000</td>\n",
       "      <td>7.000000</td>\n",
       "      <td>1.000000</td>\n",
       "    </tr>\n",
       "    <tr>\n",
       "      <th>75%</th>\n",
       "      <td>3.615704e+06</td>\n",
       "      <td>66.000000</td>\n",
       "      <td>6710.000000</td>\n",
       "      <td>7.000000</td>\n",
       "      <td>27.000000</td>\n",
       "      <td>16.500000</td>\n",
       "      <td>26.000000</td>\n",
       "      <td>3.000000</td>\n",
       "      <td>-1.056050e-01</td>\n",
       "      <td>2.274434e-01</td>\n",
       "      <td>2.054214e-01</td>\n",
       "      <td>7.148251e-02</td>\n",
       "      <td>11.000000</td>\n",
       "      <td>11.000000</td>\n",
       "      <td>3.000000</td>\n",
       "    </tr>\n",
       "    <tr>\n",
       "      <th>max</th>\n",
       "      <td>4.119855e+06</td>\n",
       "      <td>32598.000000</td>\n",
       "      <td>9803.000000</td>\n",
       "      <td>1650.000000</td>\n",
       "      <td>800.000000</td>\n",
       "      <td>720.000000</td>\n",
       "      <td>1200.000000</td>\n",
       "      <td>4.000000</td>\n",
       "      <td>6.667249e+01</td>\n",
       "      <td>4.127964e+01</td>\n",
       "      <td>3.342540e+01</td>\n",
       "      <td>2.870919e+01</td>\n",
       "      <td>13.000000</td>\n",
       "      <td>14.000000</td>\n",
       "      <td>18.000000</td>\n",
       "    </tr>\n",
       "  </tbody>\n",
       "</table>\n",
       "</div>"
      ],
      "text/plain": [
       "                SKU  CountOfBigTransactions       ClassID        Weight  \\\n",
       "count  3.737700e+04            37377.000000  37377.000000  37377.000000   \n",
       "mean   3.310389e+06              208.356797   4422.340691      9.598293   \n",
       "std    3.538764e+05              837.621645   2421.648725     24.603877   \n",
       "min    1.199880e+05                0.000000   1390.000000      0.010000   \n",
       "25%    3.124731e+06                1.000000   2401.000000      0.620000   \n",
       "50%    3.261870e+06                7.000000   3608.000000      1.760000   \n",
       "75%    3.615704e+06               66.000000   6710.000000      7.000000   \n",
       "max    4.119855e+06            32598.000000   9803.000000   1650.000000   \n",
       "\n",
       "              Width         Depth        Height      Quartile    std_weight  \\\n",
       "count  37377.000000  37377.000000  37377.000000  37377.000000  3.737700e+04   \n",
       "mean      22.220022     14.743996     19.495633      2.500147 -1.314732e-15   \n",
       "std       23.269129     24.565512     28.597737      1.117726  1.000000e+00   \n",
       "min        0.010000      0.000000      0.010000      1.000000 -3.897066e-01   \n",
       "25%        6.500000      2.750000      3.500000      2.000000 -3.649138e-01   \n",
       "50%       15.750000      6.000000     10.750000      3.000000 -3.185796e-01   \n",
       "75%       27.000000     16.500000     26.000000      3.000000 -1.056050e-01   \n",
       "max      800.000000    720.000000   1200.000000      4.000000  6.667249e+01   \n",
       "\n",
       "         std_height     std_width     std_depth  size_cluster  \\\n",
       "count  3.737700e+04  3.737700e+04  3.737700e+04  37377.000000   \n",
       "mean   6.707141e-16 -3.019251e-16 -3.001778e-16      7.004334   \n",
       "std    1.000000e+00  1.000000e+00  1.000000e+00      3.829904   \n",
       "min   -6.813697e-01 -9.544845e-01 -6.001908e-01      1.000000   \n",
       "25%   -5.593321e-01 -6.755742e-01 -4.882453e-01      3.000000   \n",
       "50%   -3.058156e-01 -2.780518e-01 -3.559460e-01      7.000000   \n",
       "75%    2.274434e-01  2.054214e-01  7.148251e-02     11.000000   \n",
       "max    4.127964e+01  3.342540e+01  2.870919e+01     13.000000   \n",
       "\n",
       "       size_std_cluster   man_cluster  \n",
       "count      37377.000000  37377.000000  \n",
       "mean           7.235171      3.422131  \n",
       "std            3.423746      4.367250  \n",
       "min            1.000000      1.000000  \n",
       "25%            4.000000      1.000000  \n",
       "50%            7.000000      1.000000  \n",
       "75%           11.000000      3.000000  \n",
       "max           14.000000     18.000000  "
      ]
     },
     "execution_count": 11,
     "metadata": {},
     "output_type": "execute_result"
    }
   ],
   "source": [
    "dataset.describe()"
   ]
  },
  {
   "cell_type": "markdown",
   "metadata": {},
   "source": [
    "# Visualizing Size Cluster"
   ]
  },
  {
   "cell_type": "markdown",
   "metadata": {},
   "source": [
    "## 1. Normal Variables"
   ]
  },
  {
   "cell_type": "code",
   "execution_count": 12,
   "metadata": {},
   "outputs": [],
   "source": [
    "size_data = dataset[['Weight', 'Width', 'Depth', 'Height']]"
   ]
  },
  {
   "cell_type": "code",
   "execution_count": 13,
   "metadata": {},
   "outputs": [],
   "source": [
    "pca = decomposition.PCA(3)"
   ]
  },
  {
   "cell_type": "code",
   "execution_count": 14,
   "metadata": {},
   "outputs": [],
   "source": [
    "plot_columns = pca.fit_transform(size_data)"
   ]
  },
  {
   "cell_type": "code",
   "execution_count": 15,
   "metadata": {},
   "outputs": [
    {
     "data": {
      "image/png": "[encoded data removed]",
      "text/plain": [
       "<Figure size 432x288 with 1 Axes>"
      ]
     },
     "metadata": {
      "needs_background": "light"
     },
     "output_type": "display_data"
    }
   ],
   "source": [
    "fig = plt.figure()\n",
    "ax = Axes3D(fig)\n",
    "\n",
    "ax.scatter(xs = plot_columns[:,0], ys = plot_columns[:,1], zs = plot_columns[:,2], zdir = 'z', c = dataset['size_cluster'])\n",
    "plt.show()"
   ]
  },
  {
   "cell_type": "markdown",
   "metadata": {},
   "source": [
    "## 2. Scaled Variables"
   ]
  },
  {
   "cell_type": "code",
   "execution_count": 16,
   "metadata": {},
   "outputs": [],
   "source": [
    "scaled_size_data = dataset[['std_weight', 'std_width', 'std_depth', 'std_height']]"
   ]
  },
  {
   "cell_type": "code",
   "execution_count": 17,
   "metadata": {},
   "outputs": [],
   "source": [
    "scaled_plot_columns = pca.fit_transform(scaled_size_data)"
   ]
  },
  {
   "cell_type": "code",
   "execution_count": 18,
   "metadata": {},
   "outputs": [
    {
     "data": {
      "image/png": "[encoded data removed]",
      "text/plain": [
       "<Figure size 432x288 with 1 Axes>"
      ]
     },
     "metadata": {
      "needs_background": "light"
     },
     "output_type": "display_data"
    }
   ],
   "source": [
    "fig = plt.figure()\n",
    "ax = Axes3D(fig)\n",
    "\n",
    "ax.scatter(xs = scaled_plot_columns[:,0], ys = scaled_plot_columns[:,1], zs = scaled_plot_columns[:,2], zdir = 'z', c = dataset['size_std_cluster'])\n",
    "plt.show()"
   ]
  },
  {
   "cell_type": "markdown",
   "metadata": {},
   "source": [
    "# Reading in Prediction Results from Driveless H2O"
   ]
  },
  {
   "cell_type": "code",
   "execution_count": 47,
   "metadata": {},
   "outputs": [],
   "source": [
    "os.chdir('C:/Users/esnxwng/Desktop/UTA Pier 1')"
   ]
  },
  {
   "cell_type": "code",
   "execution_count": 50,
   "metadata": {},
   "outputs": [],
   "source": [
    "pred_results = pd.read_csv('FullRunPred.csv')"
   ]
  },
  {
   "cell_type": "code",
   "execution_count": 54,
   "metadata": {},
   "outputs": [],
   "source": [
    "pred_results.drop(['Actual'], axis = 1, inplace = True)"
   ]
  },
  {
   "cell_type": "code",
   "execution_count": 55,
   "metadata": {},
   "outputs": [],
   "source": [
    "pred_results['Predicted'] = pred_results.idxmax(axis=1)"
   ]
  },
  {
   "cell_type": "code",
   "execution_count": 57,
   "metadata": {},
   "outputs": [],
   "source": [
    "cleaned_list = []\n",
    "\n",
    "for i in pred_results['Predicted']:\n",
    "    \n",
    "    cleaned_list.append(i.split('.')[1])"
   ]
  },
  {
   "cell_type": "code",
   "execution_count": 59,
   "metadata": {},
   "outputs": [],
   "source": [
    "pred_results['Predicted'] = cleaned_list"
   ]
  },
  {
   "cell_type": "code",
   "execution_count": 61,
   "metadata": {},
   "outputs": [],
   "source": [
    "combined_dataset = pd.concat([dataset, pred_results], axis=1)"
   ]
  },
  {
   "cell_type": "code",
   "execution_count": 73,
   "metadata": {},
   "outputs": [],
   "source": [
    "study_dataset = combined_dataset[(combined_dataset['Quartile'].astype(str) == combined_dataset['Predicted'])]"
   ]
  },
  {
   "cell_type": "code",
   "execution_count": 74,
   "metadata": {},
   "outputs": [
    {
     "data": {
      "text/plain": [
       "(29953, 32)"
      ]
     },
     "execution_count": 74,
     "metadata": {},
     "output_type": "execute_result"
    }
   ],
   "source": [
    "study_dataset.shape"
   ]
  },
  {
   "cell_type": "code",
   "execution_count": 75,
   "metadata": {},
   "outputs": [
    {
     "data": {
      "text/plain": [
       "(37377, 32)"
      ]
     },
     "execution_count": 75,
     "metadata": {},
     "output_type": "execute_result"
    }
   ],
   "source": [
    "combined_dataset.shape"
   ]
  },
  {
   "cell_type": "code",
   "execution_count": 80,
   "metadata": {},
   "outputs": [
    {
     "name": "stderr",
     "output_type": "stream",
     "text": [
      "C:\\Users\\esnxwng\\AppData\\Local\\Continuum\\anaconda3\\lib\\site-packages\\pandas\\core\\frame.py:3930: SettingWithCopyWarning: \n",
      "A value is trying to be set on a copy of a slice from a DataFrame\n",
      "\n",
      "See the caveats in the documentation: http://pandas.pydata.org/pandas-docs/stable/indexing.html#indexing-view-versus-copy\n",
      "  errors=errors)\n"
     ]
    }
   ],
   "source": [
    "study_dataset.drop(['Quartile.1', 'Quartile.2', 'Quartile.3', 'Quartile.4', 'Predicted'], axis=1, inplace=True)"
   ]
  },
  {
   "cell_type": "markdown",
   "metadata": {},
   "source": [
    "# Naives Bayes Classifier"
   ]
  },
  {
   "cell_type": "code",
   "execution_count": 97,
   "metadata": {},
   "outputs": [],
   "source": [
    "nb_data = study_dataset.copy()"
   ]
  },
  {
   "cell_type": "code",
   "execution_count": 98,
   "metadata": {},
   "outputs": [],
   "source": [
    "nb_data.drop(['SKU', 'CountOfBigTransactions', 'ClassID', 'Weight', 'Width', 'Depth', 'Height', 'Utility', 'std_weight', 'std_height', 'std_width', 'std_depth', 'size_cluster'], axis=1, inplace=True)"
   ]
  },
  {
   "cell_type": "code",
   "execution_count": 99,
   "metadata": {},
   "outputs": [
    {
     "data": {
      "text/plain": [
       "ProductName         object\n",
       "LifeCycleName       object\n",
       "FinishName          object\n",
       "Color               object\n",
       "Season              object\n",
       "Material            object\n",
       "CountryOfOrigin     object\n",
       "Quartile             int64\n",
       "online-flag           bool\n",
       "Is_Season             bool\n",
       "BigTransactions       bool\n",
       "Size                object\n",
       "size_std_cluster     int64\n",
       "man_cluster          int64\n",
       "dtype: object"
      ]
     },
     "execution_count": 99,
     "metadata": {},
     "output_type": "execute_result"
    }
   ],
   "source": [
    "nb_data.dtypes"
   ]
  },
  {
   "cell_type": "code",
   "execution_count": 100,
   "metadata": {},
   "outputs": [],
   "source": [
    "nb_data['Quartile'] = nb_data['Quartile'].astype(str)\n",
    "nb_data['online-flag'] = nb_data['online-flag'].astype(str)\n",
    "nb_data['Is_Season'] = nb_data['Is_Season'].astype(str)\n",
    "nb_data['BigTransactions'] = nb_data['BigTransactions'].astype(str)\n",
    "nb_data['size_std_cluster'] = nb_data['size_std_cluster'].astype(str)\n",
    "nb_data['man_cluster'] = nb_data['man_cluster'].astype(str)"
   ]
  },
  {
   "cell_type": "markdown",
   "metadata": {},
   "source": [
    "# Copying Data"
   ]
  },
  {
   "cell_type": "code",
   "execution_count": 19,
   "metadata": {},
   "outputs": [],
   "source": [
    "light_gbm_data = dataset.copy()"
   ]
  },
  {
   "cell_type": "code",
   "execution_count": 20,
   "metadata": {},
   "outputs": [],
   "source": [
    "light_gbm_data.drop(['SKU', 'ProductName', 'ClassID', 'Weight', 'Width', 'Depth', 'Height', 'size_cluster', 'BigTransactions'], axis = 1, inplace=True)"
   ]
  },
  {
   "cell_type": "code",
   "execution_count": 21,
   "metadata": {},
   "outputs": [
    {
     "data": {
      "text/plain": [
       "CountOfBigTransactions      int64\n",
       "LifeCycleName              object\n",
       "FinishName                 object\n",
       "Color                      object\n",
       "Season                     object\n",
       "Material                   object\n",
       "CountryOfOrigin            object\n",
       "Quartile                    int64\n",
       "online-flag                  bool\n",
       "Is_Season                    bool\n",
       "Size                       object\n",
       "Utility                    object\n",
       "std_weight                float64\n",
       "std_height                float64\n",
       "std_width                 float64\n",
       "std_depth                 float64\n",
       "size_std_cluster            int64\n",
       "man_cluster                 int64\n",
       "dtype: object"
      ]
     },
     "execution_count": 21,
     "metadata": {},
     "output_type": "execute_result"
    }
   ],
   "source": [
    "light_gbm_data.dtypes"
   ]
  },
  {
   "cell_type": "code",
   "execution_count": 22,
   "metadata": {},
   "outputs": [],
   "source": [
    "light_gbm_data['size_std_cluster'] = light_gbm_data['size_std_cluster'].astype(str)\n",
    "light_gbm_data['man_cluster'] = light_gbm_data['man_cluster'].astype(str)\n",
    "light_gbm_data['online-flag'] = light_gbm_data['online-flag'].astype(str)\n",
    "light_gbm_data['Is_Season'] = light_gbm_data['Is_Season'].astype(str)"
   ]
  },
  {
   "cell_type": "markdown",
   "metadata": {},
   "source": [
    "# Trying out Light GBM"
   ]
  },
  {
   "cell_type": "code",
   "execution_count": 23,
   "metadata": {},
   "outputs": [],
   "source": [
    "import lightgbm as lgb\n",
    "from bayes_opt import BayesianOptimization\n",
    "from sklearn.metrics import roc_auc_score"
   ]
  },
  {
   "cell_type": "code",
   "execution_count": 24,
   "metadata": {},
   "outputs": [],
   "source": [
    "def label_encoder(input_df, encoder_dict=None):\n",
    "    \"\"\" Process a dataframe into a form useable by LightGBM \"\"\"\n",
    "    # Label encode categoricals\n",
    "    categorical_feats = input_df.columns[input_df.dtypes == 'object']\n",
    "    for feat in categorical_feats:\n",
    "        encoder = LabelEncoder()\n",
    "        input_df[feat] = encoder.fit_transform(input_df[feat].fillna('NULL'))\n",
    "    return input_df, categorical_feats.tolist(), encoder_dict"
   ]
  },
  {
   "cell_type": "code",
   "execution_count": 25,
   "metadata": {},
   "outputs": [],
   "source": [
    "light_gbm_data, categorical_feats, encoder_dict = label_encoder(light_gbm_data)"
   ]
  },
  {
   "cell_type": "code",
   "execution_count": 26,
   "metadata": {},
   "outputs": [
    {
     "data": {
      "text/html": [
       "<div>\n",
       "<style scoped>\n",
       "    .dataframe tbody tr th:only-of-type {\n",
       "        vertical-align: middle;\n",
       "    }\n",
       "\n",
       "    .dataframe tbody tr th {\n",
       "        vertical-align: top;\n",
       "    }\n",
       "\n",
       "    .dataframe thead th {\n",
       "        text-align: right;\n",
       "    }\n",
       "</style>\n",
       "<table border=\"1\" class=\"dataframe\">\n",
       "  <thead>\n",
       "    <tr style=\"text-align: right;\">\n",
       "      <th></th>\n",
       "      <th>CountOfBigTransactions</th>\n",
       "      <th>LifeCycleName</th>\n",
       "      <th>FinishName</th>\n",
       "      <th>Color</th>\n",
       "      <th>Season</th>\n",
       "      <th>Material</th>\n",
       "      <th>CountryOfOrigin</th>\n",
       "      <th>Quartile</th>\n",
       "      <th>online-flag</th>\n",
       "      <th>Is_Season</th>\n",
       "      <th>Size</th>\n",
       "      <th>Utility</th>\n",
       "      <th>std_weight</th>\n",
       "      <th>std_height</th>\n",
       "      <th>std_width</th>\n",
       "      <th>std_depth</th>\n",
       "      <th>size_std_cluster</th>\n",
       "      <th>man_cluster</th>\n",
       "    </tr>\n",
       "  </thead>\n",
       "  <tbody>\n",
       "    <tr>\n",
       "      <th>0</th>\n",
       "      <td>0</td>\n",
       "      <td>1</td>\n",
       "      <td>6</td>\n",
       "      <td>11</td>\n",
       "      <td>7</td>\n",
       "      <td>44</td>\n",
       "      <td>3</td>\n",
       "      <td>1</td>\n",
       "      <td>0</td>\n",
       "      <td>1</td>\n",
       "      <td>5</td>\n",
       "      <td>572</td>\n",
       "      <td>-0.345405</td>\n",
       "      <td>-0.264554</td>\n",
       "      <td>-0.810947</td>\n",
       "      <td>-0.463821</td>\n",
       "      <td>11</td>\n",
       "      <td>0</td>\n",
       "    </tr>\n",
       "    <tr>\n",
       "      <th>1</th>\n",
       "      <td>0</td>\n",
       "      <td>1</td>\n",
       "      <td>6</td>\n",
       "      <td>4</td>\n",
       "      <td>7</td>\n",
       "      <td>44</td>\n",
       "      <td>28</td>\n",
       "      <td>1</td>\n",
       "      <td>0</td>\n",
       "      <td>1</td>\n",
       "      <td>5</td>\n",
       "      <td>572</td>\n",
       "      <td>-0.349469</td>\n",
       "      <td>-0.646752</td>\n",
       "      <td>-0.911939</td>\n",
       "      <td>-0.559483</td>\n",
       "      <td>11</td>\n",
       "      <td>2</td>\n",
       "    </tr>\n",
       "    <tr>\n",
       "      <th>2</th>\n",
       "      <td>0</td>\n",
       "      <td>1</td>\n",
       "      <td>6</td>\n",
       "      <td>45</td>\n",
       "      <td>4</td>\n",
       "      <td>31</td>\n",
       "      <td>3</td>\n",
       "      <td>1</td>\n",
       "      <td>0</td>\n",
       "      <td>0</td>\n",
       "      <td>4</td>\n",
       "      <td>363</td>\n",
       "      <td>-0.388487</td>\n",
       "      <td>-0.611784</td>\n",
       "      <td>-0.868963</td>\n",
       "      <td>-0.518776</td>\n",
       "      <td>11</td>\n",
       "      <td>0</td>\n",
       "    </tr>\n",
       "    <tr>\n",
       "      <th>3</th>\n",
       "      <td>0</td>\n",
       "      <td>1</td>\n",
       "      <td>6</td>\n",
       "      <td>34</td>\n",
       "      <td>7</td>\n",
       "      <td>44</td>\n",
       "      <td>29</td>\n",
       "      <td>1</td>\n",
       "      <td>0</td>\n",
       "      <td>1</td>\n",
       "      <td>5</td>\n",
       "      <td>572</td>\n",
       "      <td>-0.384016</td>\n",
       "      <td>-0.122235</td>\n",
       "      <td>-0.095406</td>\n",
       "      <td>-0.355946</td>\n",
       "      <td>7</td>\n",
       "      <td>9</td>\n",
       "    </tr>\n",
       "    <tr>\n",
       "      <th>4</th>\n",
       "      <td>0</td>\n",
       "      <td>1</td>\n",
       "      <td>6</td>\n",
       "      <td>28</td>\n",
       "      <td>7</td>\n",
       "      <td>44</td>\n",
       "      <td>3</td>\n",
       "      <td>1</td>\n",
       "      <td>0</td>\n",
       "      <td>1</td>\n",
       "      <td>5</td>\n",
       "      <td>572</td>\n",
       "      <td>-0.366133</td>\n",
       "      <td>-0.297074</td>\n",
       "      <td>-0.546648</td>\n",
       "      <td>-0.599784</td>\n",
       "      <td>11</td>\n",
       "      <td>0</td>\n",
       "    </tr>\n",
       "  </tbody>\n",
       "</table>\n",
       "</div>"
      ],
      "text/plain": [
       "   CountOfBigTransactions  LifeCycleName  FinishName  Color  Season  Material  \\\n",
       "0                       0              1           6     11       7        44   \n",
       "1                       0              1           6      4       7        44   \n",
       "2                       0              1           6     45       4        31   \n",
       "3                       0              1           6     34       7        44   \n",
       "4                       0              1           6     28       7        44   \n",
       "\n",
       "   CountryOfOrigin  Quartile  online-flag  Is_Season  Size  Utility  \\\n",
       "0                3         1            0          1     5      572   \n",
       "1               28         1            0          1     5      572   \n",
       "2                3         1            0          0     4      363   \n",
       "3               29         1            0          1     5      572   \n",
       "4                3         1            0          1     5      572   \n",
       "\n",
       "   std_weight  std_height  std_width  std_depth  size_std_cluster  man_cluster  \n",
       "0   -0.345405   -0.264554  -0.810947  -0.463821                11            0  \n",
       "1   -0.349469   -0.646752  -0.911939  -0.559483                11            2  \n",
       "2   -0.388487   -0.611784  -0.868963  -0.518776                11            0  \n",
       "3   -0.384016   -0.122235  -0.095406  -0.355946                 7            9  \n",
       "4   -0.366133   -0.297074  -0.546648  -0.599784                11            0  "
      ]
     },
     "execution_count": 26,
     "metadata": {},
     "output_type": "execute_result"
    }
   ],
   "source": [
    "light_gbm_data.head()"
   ]
  },
  {
   "cell_type": "code",
   "execution_count": 27,
   "metadata": {},
   "outputs": [],
   "source": [
    "light_gbm_data['Quartile'] = light_gbm_data['Quartile'] - 1"
   ]
  },
  {
   "cell_type": "code",
   "execution_count": 28,
   "metadata": {},
   "outputs": [],
   "source": [
    "X = light_gbm_data.drop('Quartile', axis=1)\n",
    "y = light_gbm_data.Quartile"
   ]
  },
  {
   "cell_type": "markdown",
   "metadata": {},
   "source": [
    "# Train-Test Split"
   ]
  },
  {
   "cell_type": "code",
   "execution_count": 29,
   "metadata": {},
   "outputs": [],
   "source": [
    "X_train, X_test, y_train, y_test = train_test_split(X, y, test_size=0.3, random_state=777)"
   ]
  },
  {
   "cell_type": "markdown",
   "metadata": {},
   "source": [
    "# Light GBM"
   ]
  },
  {
   "cell_type": "code",
   "execution_count": 30,
   "metadata": {},
   "outputs": [],
   "source": [
    "d_train = lgb.Dataset(X_train, label=y_train)"
   ]
  },
  {
   "cell_type": "code",
   "execution_count": 31,
   "metadata": {},
   "outputs": [],
   "source": [
    "params = {}\n",
    "params['learning_rate'] = 0.003\n",
    "params['boosting_type'] = 'gbdt'\n",
    "params['objective'] = 'multiclass'\n",
    "params['num_class'] = 4\n",
    "params['metric'] = 'multi_logloss'\n",
    "params['sub_feature'] = 0.5\n",
    "params['num_leaves'] = 10\n",
    "params['min_data'] = 50\n",
    "params['max_depth'] = 10"
   ]
  },
  {
   "cell_type": "code",
   "execution_count": 32,
   "metadata": {},
   "outputs": [],
   "source": [
    "clf = lgb.train(params, d_train, 100)"
   ]
  },
  {
   "cell_type": "code",
   "execution_count": 33,
   "metadata": {},
   "outputs": [],
   "source": [
    "#Prediction\n",
    "y_pred=clf.predict(X_test)"
   ]
  },
  {
   "cell_type": "code",
   "execution_count": 34,
   "metadata": {},
   "outputs": [
    {
     "data": {
      "text/plain": [
       "array([[0.23164732, 0.2777249 , 0.24464609, 0.24598169],\n",
       "       [0.26372592, 0.27751271, 0.23646619, 0.22229518],\n",
       "       [0.22299439, 0.23429158, 0.25968486, 0.28302918],\n",
       "       ...,\n",
       "       [0.22813516, 0.22682106, 0.25791071, 0.28713307],\n",
       "       [0.23122369, 0.22594519, 0.2285832 , 0.31424792],\n",
       "       [0.23251948, 0.2260641 , 0.22669854, 0.31471788]])"
      ]
     },
     "execution_count": 34,
     "metadata": {},
     "output_type": "execute_result"
    }
   ],
   "source": [
    "y_pred"
   ]
  },
  {
   "cell_type": "code",
   "execution_count": 36,
   "metadata": {},
   "outputs": [],
   "source": [
    "y_pred_class = [np.argmax(line) for line in y_pred]"
   ]
  },
  {
   "cell_type": "code",
   "execution_count": 39,
   "metadata": {},
   "outputs": [
    {
     "name": "stdout",
     "output_type": "stream",
     "text": [
      "[[2336  384   65    8]\n",
      " [ 736 1638  391   73]\n",
      " [ 168  719 1467  477]\n",
      " [   4   32  357 2359]]\n"
     ]
    }
   ],
   "source": [
    "cm = confusion_matrix(y_test,y_pred_class)"
   ]
  },
  {
   "cell_type": "code",
   "execution_count": 40,
   "metadata": {},
   "outputs": [
    {
     "data": {
      "text/plain": [
       "<matplotlib.axes._subplots.AxesSubplot at 0x1f39ec1eb00>"
      ]
     },
     "execution_count": 40,
     "metadata": {},
     "output_type": "execute_result"
    },
    {
     "data": {
      "image/png": "[encoded data removed]",
      "text/plain": [
       "<Figure size 360x360 with 2 Axes>"
      ]
     },
     "metadata": {
      "needs_background": "light"
     },
     "output_type": "display_data"
    }
   ],
   "source": [
    "plt.figure(figsize = (5,5))\n",
    "\n",
    "sns.heatmap(cm, annot=True, fmt=\"d\")"
   ]
  },
  {
   "cell_type": "code",
   "execution_count": 44,
   "metadata": {},
   "outputs": [],
   "source": [
    "accuracy=accuracy_score(y_pred_class,y_test)"
   ]
  },
  {
   "cell_type": "code",
   "execution_count": 45,
   "metadata": {},
   "outputs": [
    {
     "data": {
      "text/plain": [
       "0.6955591225254146"
      ]
     },
     "execution_count": 45,
     "metadata": {},
     "output_type": "execute_result"
    }
   ],
   "source": [
    "accuracy"
   ]
  }
 ],
 "metadata": {
  "kernelspec": {
   "display_name": "Python 3",
   "language": "python",
   "name": "python3"
  },
  "language_info": {
   "codemirror_mode": {
    "name": "ipython",
    "version": 3
   },
   "file_extension": ".py",
   "mimetype": "text/x-python",
   "name": "python",
   "nbconvert_exporter": "python",
   "pygments_lexer": "ipython3",
   "version": "3.6.8"
  }
 },
 "nbformat": 4,
 "nbformat_minor": 2
}
